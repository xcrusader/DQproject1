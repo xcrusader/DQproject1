{
 "cells": [
  {
   "cell_type": "markdown",
   "metadata": {},
   "source": [
    "# Popular App Profiles on Google Play and App Store"
   ]
  },
  {
   "cell_type": "markdown",
   "metadata": {},
   "source": []
  },
  {
   "cell_type": "markdown",
   "metadata": {},
   "source": [
    "# Index"
   ]
  },
  {
   "cell_type": "markdown",
   "metadata": {},
   "source": [
    "- [1 Introduction](#1)\n",
    "- [2 Reading the Data](#2)\n",
    "- [3 Data Cleaning](#3)\n",
    "- [4 Identifying and Removing Non-English Apps](#4)\n",
    "- [5 Identifying and Removind Paid Apps](#5)\n",
    "- [6 Defining a Strategy for App Development](#6)\n",
    "- [7 Assessing User Rating by Genre for Both Datasets](#7)\n",
    "- [8 The Result](#8)\n",
    "- [9 Conclusion](#9)"
   ]
  },
  {
   "cell_type": "markdown",
   "metadata": {},
   "source": [
    "# 1"
   ]
  },
  {
   "cell_type": "markdown",
   "metadata": {},
   "source": [
    "## Introduction"
   ]
  },
  {
   "cell_type": "markdown",
   "metadata": {},
   "source": [
    "With the explosive growth of the smartphone over the last decade there has been a significant surge in app development. If you've thought of it there is an app for it.\n",
    "Competition has forced developers to deliver apps that are not only highly functional but also provide basic features for free. Provision of the latter is of significant importance unless the app targets a niche market (of which almost none exists) or tailored for the use of specific devices. This forces companies to create apps whose main source of revenue would be ads"
   ]
  },
  {
   "cell_type": "markdown",
   "metadata": {},
   "source": [
    "The goal of this project is to analyze data from Google's Play store and Apple's Apps Store and identify app profiles that:\n",
    "- Engage the user\n",
    "- Are free\n",
    "- Possibly attract a large following that is enough to sustain a model that depends on in-app ads"
   ]
  },
  {
   "cell_type": "markdown",
   "metadata": {},
   "source": [
    "The expected end result is to identify those app classes that meet the above goals and consider the same for future app development."
   ]
  },
  {
   "cell_type": "markdown",
   "metadata": {},
   "source": [
    "[Index](#Index)"
   ]
  },
  {
   "cell_type": "markdown",
   "metadata": {},
   "source": [
    "# 2"
   ]
  },
  {
   "cell_type": "markdown",
   "metadata": {},
   "source": [
    "## Reading the Data"
   ]
  },
  {
   "cell_type": "markdown",
   "metadata": {},
   "source": [
    "##### Reading in the data from the data files"
   ]
  },
  {
   "cell_type": "markdown",
   "metadata": {},
   "source": [
    "The focus for this project will be apps on Google's Playstore and Apple's App Store. As of 2018 the Google Play Store had more than 2.1 million apps while the App Store had about 2 million apps. Becuase of the volume of data, the data sets will be using a sample of 10000 apps for analysis. The links for the data sets can be found below. \n",
    "\n",
    "- [Google Playstore App Data](https://www.kaggle.com/lava18/google-play-store-apps)\n",
    "- [Apple App Store App Data](https://www.kaggle.com/ramamet4/app-store-apple-data-set-10k-apps)"
   ]
  },
  {
   "cell_type": "code",
   "execution_count": 38,
   "metadata": {},
   "outputs": [],
   "source": [
    "#Reading in the data to two separate lists\n",
    "from csv import reader\n",
    "\n",
    "#reads the appstore data to apple_list\n",
    "opened_file = open('AppleStore.csv',encoding=\"utf-8\")\n",
    "read_file = reader(opened_file)\n",
    "apple_list = list(read_file)\n",
    "\n",
    "#reads the google play store data to google_list\n",
    "opened_file = open('googleplaystore.csv', encoding=\"utf-8\")\n",
    "read_file = reader(opened_file)\n",
    "google_list = list(read_file)"
   ]
  },
  {
   "cell_type": "code",
   "execution_count": 39,
   "metadata": {},
   "outputs": [],
   "source": [
    "# Function to make the data more readable\n",
    "\n",
    "def explore_data(dataset, start, end, rows_and_columns=False):\n",
    "    dataset_slice = dataset[start:end]    \n",
    "    for row in dataset_slice:\n",
    "        print(row)\n",
    "        print('\\n') # adds a new (empty) line after each row\n",
    "\n",
    "    if rows_and_columns:\n",
    "        print('Number of rows:', len(dataset))\n",
    "        print('Number of columns:', len(dataset[0]))"
   ]
  },
  {
   "cell_type": "code",
   "execution_count": 40,
   "metadata": {
    "scrolled": true
   },
   "outputs": [
    {
     "name": "stdout",
     "output_type": "stream",
     "text": [
      "['id', 'track_name', 'size_bytes', 'currency', 'price', 'rating_count_tot', 'rating_count_ver', 'user_rating', 'user_rating_ver', 'ver', 'cont_rating', 'prime_genre', 'sup_devices.num', 'ipadSc_urls.num', 'lang.num', 'vpp_lic']\n",
      "\n",
      "\n",
      "['284882215', 'Facebook', '389879808', 'USD', '0.0', '2974676', '212', '3.5', '3.5', '95.0', '4+', 'Social Networking', '37', '1', '29', '1']\n",
      "\n",
      "\n",
      "['389801252', 'Instagram', '113954816', 'USD', '0.0', '2161558', '1289', '4.5', '4.0', '10.23', '12+', 'Photo & Video', '37', '0', '29', '1']\n",
      "\n",
      "\n",
      "['529479190', 'Clash of Clans', '116476928', 'USD', '0.0', '2130805', '579', '4.5', '4.5', '9.24.12', '9+', 'Games', '38', '5', '18', '1']\n",
      "\n",
      "\n",
      "Number of rows: 7198\n",
      "Number of columns: 16\n",
      "-----------------------\n",
      "['App', 'Category', 'Rating', 'Reviews', 'Size', 'Installs', 'Type', 'Price', 'Content Rating', 'Genres', 'Last Updated', 'Current Ver', 'Android Ver']\n",
      "\n",
      "\n",
      "['Photo Editor & Candy Camera & Grid & ScrapBook', 'ART_AND_DESIGN', '4.1', '159', '19M', '10,000+', 'Free', '0', 'Everyone', 'Art & Design', 'January 7, 2018', '1.0.0', '4.0.3 and up']\n",
      "\n",
      "\n",
      "['Coloring book moana', 'ART_AND_DESIGN', '3.9', '967', '14M', '500,000+', 'Free', '0', 'Everyone', 'Art & Design;Pretend Play', 'January 15, 2018', '2.0.0', '4.0.3 and up']\n",
      "\n",
      "\n",
      "['U Launcher Lite – FREE Live Cool Themes, Hide Apps', 'ART_AND_DESIGN', '4.7', '87510', '8.7M', '5,000,000+', 'Free', '0', 'Everyone', 'Art & Design', 'August 1, 2018', '1.2.4', '4.0.3 and up']\n",
      "\n",
      "\n",
      "Number of rows: 10842\n",
      "Number of columns: 13\n"
     ]
    }
   ],
   "source": [
    "explore_data(apple_list, 0, 4, True)\n",
    "print('-----------------------')\n",
    "explore_data(google_list, 0, 4, True)"
   ]
  },
  {
   "cell_type": "code",
   "execution_count": 41,
   "metadata": {},
   "outputs": [
    {
     "name": "stdout",
     "output_type": "stream",
     "text": [
      "App Store Columns\n",
      "['id', 'track_name', 'size_bytes', 'currency', 'price', 'rating_count_tot', 'rating_count_ver', 'user_rating', 'user_rating_ver', 'ver', 'cont_rating', 'prime_genre', 'sup_devices.num', 'ipadSc_urls.num', 'lang.num', 'vpp_lic']\n",
      "\n",
      "\n",
      "Google Play Columns\n",
      "['App', 'Category', 'Rating', 'Reviews', 'Size', 'Installs', 'Type', 'Price', 'Content Rating', 'Genres', 'Last Updated', 'Current Ver', 'Android Ver']\n"
     ]
    }
   ],
   "source": [
    "print(\"App Store Columns\")\n",
    "print(apple_list[0])\n",
    "print('\\n')\n",
    "print(\"Google Play Columns\")\n",
    "print(google_list[0])"
   ]
  },
  {
   "cell_type": "markdown",
   "metadata": {},
   "source": [
    "Based on the above listing there are many columns from both stores that could help in our analysis. A more detailed description has been provided in the Column tab of the pages associated to the above provided links."
   ]
  },
  {
   "cell_type": "markdown",
   "metadata": {},
   "source": [
    "[Index](#Index)"
   ]
  },
  {
   "cell_type": "markdown",
   "metadata": {},
   "source": [
    "# 3"
   ]
  },
  {
   "cell_type": "markdown",
   "metadata": {},
   "source": [
    "## Data Cleaning"
   ]
  },
  {
   "cell_type": "markdown",
   "metadata": {},
   "source": [
    "##### Filling in missing data and removing duplicates###"
   ]
  },
  {
   "cell_type": "markdown",
   "metadata": {},
   "source": [
    "Before proceeding to data analysis, it has to be ensured that the data is relevant and is accurate. On the point of relevancy, it has to be noted that analysis will be focussed on apps targeted towards the English speaking audience and that the apps must be free.\n",
    "\n",
    "Both the data sets have a discussion section.\n",
    "- [Playstore data set discussion](https://www.kaggle.com/lava18/google-play-store-apps/discussion)\n",
    "- [Appstore data set discussion](https://www.kaggle.com/ramamet4/app-store-apple-data-set-10k-apps/discussion)\n",
    "\n",
    "The discussions here should give some idea of issues found by others in specific areas."
   ]
  },
  {
   "cell_type": "markdown",
   "metadata": {},
   "source": [
    "One of the [discussions](https://www.kaggle.com/lava18/google-play-store-apps/discussion/66015) in the Playstore data mentions that data associated to app Rating is missing thus causing the other columns to shift to the left. Further analysis is required to determine whether the problem exists as mentioned."
   ]
  },
  {
   "cell_type": "code",
   "execution_count": 42,
   "metadata": {},
   "outputs": [
    {
     "name": "stdout",
     "output_type": "stream",
     "text": [
      "['App', 'Category', 'Rating', 'Reviews', 'Size', 'Installs', 'Type', 'Price', 'Content Rating', 'Genres', 'Last Updated', 'Current Ver', 'Android Ver']\n",
      "['Life Made WI-Fi Touchscreen Photo Frame', '1.9', '19', '3.0M', '1,000+', 'Free', '0', 'Everyone', '', 'February 11, 2018', '1.0.19', '4.0 and up']\n"
     ]
    }
   ],
   "source": [
    "print(google_list[0])\n",
    "print(google_list[10473])"
   ]
  },
  {
   "cell_type": "markdown",
   "metadata": {},
   "source": [
    "As mentioned there is a value missing, however further analysis reveals that the data missing is the category to which the app belongs to. A quick check on google reveals that the category is Lifestyle. The value can be inserted."
   ]
  },
  {
   "cell_type": "code",
   "execution_count": 43,
   "metadata": {},
   "outputs": [],
   "source": [
    "google_list[10473] = ['Life Made WI-Fi Touchscreen Photo Frame', 'Lifestyle', '1.9', '19', '3.0M', '1,000+', 'Free', '0', 'Everyone', '', 'February 11, 2018', '1.0.19', '4.0 and up']"
   ]
  },
  {
   "cell_type": "markdown",
   "metadata": {},
   "source": [
    "In order to ensure to ensure that the App store data does not have any such issues we could ensure that information for each app has the same set of columns as the header."
   ]
  },
  {
   "cell_type": "code",
   "execution_count": 44,
   "metadata": {},
   "outputs": [
    {
     "name": "stdout",
     "output_type": "stream",
     "text": [
      "No rows with missing columnss\n"
     ]
    }
   ],
   "source": [
    "row_with_missing_column = []\n",
    "for each_app in apple_list[1:]:\n",
    "    if len(each_app) != len(apple_list[0]):\n",
    "        row_with_missing_colum.append(apple_list.index(each_app))\n",
    "\n",
    "if len(row_with_missing_column) == 0:\n",
    "    print(\"No rows with missing columnss\")\n",
    "else:\n",
    "    print(row_with_missing_column)"
   ]
  },
  {
   "cell_type": "markdown",
   "metadata": {},
   "source": [
    "That makes it clear that every row in the App Store data has all the required columns.\n",
    "Further reading of the [discussions](https://www.kaggle.com/lava18/google-play-store-apps/discussion/136133) in the Gooogle playstore dataset reveals that there are multiple instances of duplicate data. Before taking any action for the same. It is essential to verify the degree by which this issue affects the dataset."
   ]
  },
  {
   "cell_type": "code",
   "execution_count": 45,
   "metadata": {},
   "outputs": [],
   "source": [
    "def print_list(a_list):\n",
    "    for row in a_list:\n",
    "        print(row)"
   ]
  },
  {
   "cell_type": "code",
   "execution_count": 46,
   "metadata": {},
   "outputs": [
    {
     "name": "stdout",
     "output_type": "stream",
     "text": [
      "Number of instances of duplicate apps: 1181\n",
      "\n",
      "\n",
      "Some of the duplicate instances are:\n",
      "Quick PDF Scanner + OCR FREE\n",
      "Box\n",
      "Google My Business\n",
      "ZOOM Cloud Meetings\n",
      "join.me - Simple Meetings\n",
      "Box\n",
      "Zenefits\n",
      "Google Ads\n",
      "Google My Business\n",
      "Slack\n",
      "FreshBooks Classic\n",
      "Insightly CRM\n",
      "QuickBooks Accounting: Invoicing & Expenses\n",
      "HipChat - Chat Built for Teams\n",
      "Xero Accounting Software\n",
      "MailChimp - Email, Marketing Automation\n",
      "Crew - Free Messaging and Scheduling\n",
      "Asana: organize team projects\n",
      "Google Analytics\n",
      "AdWords Express\n"
     ]
    }
   ],
   "source": [
    "unique_apps = []\n",
    "duplicate_apps = []\n",
    "for an_app in google_list[1:]:\n",
    "    app_name = an_app[0]\n",
    "    if app_name in unique_apps:\n",
    "        duplicate_apps.append(app_name)\n",
    "    else:\n",
    "        unique_apps.append(app_name)\n",
    "\n",
    "print(\"Number of instances of duplicate apps:\",len(duplicate_apps))\n",
    "print(\"\\n\")\n",
    "print(\"Some of the duplicate instances are:\")\n",
    "print_list(duplicate_apps[:20])"
   ]
  },
  {
   "cell_type": "code",
   "execution_count": 47,
   "metadata": {},
   "outputs": [
    {
     "name": "stdout",
     "output_type": "stream",
     "text": [
      "['App', 'Category', 'Rating', 'Reviews', 'Size', 'Installs', 'Type', 'Price', 'Content Rating', 'Genres', 'Last Updated', 'Current Ver', 'Android Ver']\n",
      "['Box', 'BUSINESS', '4.2', '159872', 'Varies with device', '10,000,000+', 'Free', '0', 'Everyone', 'Business', 'July 31, 2018', 'Varies with device', 'Varies with device']\n",
      "['Box', 'BUSINESS', '4.2', '159872', 'Varies with device', '10,000,000+', 'Free', '0', 'Everyone', 'Business', 'July 31, 2018', 'Varies with device', 'Varies with device']\n",
      "['Box', 'BUSINESS', '4.2', '159872', 'Varies with device', '10,000,000+', 'Free', '0', 'Everyone', 'Business', 'July 31, 2018', 'Varies with device', 'Varies with device']\n"
     ]
    }
   ],
   "source": [
    "print(google_list[0])\n",
    "for apps in google_list[1:]:\n",
    "    name = apps[0]\n",
    "    if name == 'Box':\n",
    "        print(apps)"
   ]
  },
  {
   "cell_type": "markdown",
   "metadata": {},
   "source": [
    "As can be seen above there are multiple instances for some apps. In order to remove the duplicate instances a criteria that could be considered is the instance with the highest count of comments. \n",
    "\n",
    "An app with a large number of comments is a sign that the app is in use. So the app instance with the most comments for an app will be considered."
   ]
  },
  {
   "cell_type": "code",
   "execution_count": 48,
   "metadata": {},
   "outputs": [
    {
     "name": "stdout",
     "output_type": "stream",
     "text": [
      "Dictionary created with  9660 records\n"
     ]
    }
   ],
   "source": [
    "# Creates an empty dictionary\n",
    "reviews_max = {}\n",
    "# Review each app record in google_list and update the reviews_max list with the name:num_of_reviews key-value pair where the number\n",
    "# of reviews is the highest for each app.\n",
    "for app in google_list[1:]:\n",
    "    name = app[0]\n",
    "    n_reviews = float(app[3])\n",
    "    if name in reviews_max and reviews_max[name]<n_reviews:\n",
    "        reviews_max[name] = n_reviews\n",
    "    if name not in reviews_max:\n",
    "        reviews_max[name] = n_reviews\n",
    "print(\"Dictionary created with \",len(reviews_max),\"records\")"
   ]
  },
  {
   "cell_type": "markdown",
   "metadata": {},
   "source": [
    "Now that we have a dictionary containing highest number of comments for each app it becomes easier to select a single app instance for the apps with the duplicate entries."
   ]
  },
  {
   "cell_type": "code",
   "execution_count": 49,
   "metadata": {},
   "outputs": [
    {
     "name": "stdout",
     "output_type": "stream",
     "text": [
      "Duplicates removed.\n"
     ]
    }
   ],
   "source": [
    "android_clean = []\n",
    "already_added = []\n",
    "\n",
    "for row in google_list[1:]:\n",
    "    name = row[0]\n",
    "    n_reviews = float(row[3])\n",
    "    \n",
    "    if reviews_max[name] == n_reviews and name not in already_added:\n",
    "        android_clean.append(row)\n",
    "        already_added.append(name)\n",
    "\n",
    "print(\"Duplicates removed.\")"
   ]
  },
  {
   "cell_type": "markdown",
   "metadata": {},
   "source": [
    "To verify that we have a clean list without any duplicates. We could run a count of the duplicates over the cleaned set."
   ]
  },
  {
   "cell_type": "code",
   "execution_count": 50,
   "metadata": {
    "scrolled": true
   },
   "outputs": [
    {
     "name": "stdout",
     "output_type": "stream",
     "text": [
      "Number of instances of duplicate apps: 0\n"
     ]
    }
   ],
   "source": [
    "unique_apps = []\n",
    "duplicate_apps = []\n",
    "for an_app in android_clean[1:]:\n",
    "    app_name = an_app[0]\n",
    "    if app_name in unique_apps:\n",
    "        duplicate_apps.append(app_name)\n",
    "    else:\n",
    "        unique_apps.append(app_name)\n",
    "\n",
    "print(\"Number of instances of duplicate apps:\",len(duplicate_apps))"
   ]
  },
  {
   "cell_type": "markdown",
   "metadata": {},
   "source": [
    "Seeing as we have cleaned the android set it would be beneficial to find out whether the apple data set suffers from such duplicates."
   ]
  },
  {
   "cell_type": "code",
   "execution_count": 51,
   "metadata": {},
   "outputs": [
    {
     "name": "stdout",
     "output_type": "stream",
     "text": [
      "Number of instances of duplicate apps: 0\n"
     ]
    }
   ],
   "source": [
    "unique_apps = []\n",
    "duplicate_apps = []\n",
    "for an_app in apple_list[1:]:\n",
    "    app_name = an_app[0]\n",
    "    if app_name in unique_apps:\n",
    "        duplicate_apps.append(app_name)\n",
    "    else:\n",
    "        unique_apps.append(app_name)\n",
    "\n",
    "print(\"Number of instances of duplicate apps:\",len(duplicate_apps))"
   ]
  },
  {
   "cell_type": "markdown",
   "metadata": {},
   "source": [
    "The apple dataset does not seem to have an duplicate data."
   ]
  },
  {
   "cell_type": "markdown",
   "metadata": {},
   "source": [
    "[Index](#Index)"
   ]
  },
  {
   "cell_type": "markdown",
   "metadata": {},
   "source": [
    "# 4"
   ]
  },
  {
   "cell_type": "markdown",
   "metadata": {},
   "source": [
    "## Identifying and Removing non-English Apps"
   ]
  },
  {
   "cell_type": "markdown",
   "metadata": {},
   "source": [
    "##### Filtering out apps focused on english speaking audience"
   ]
  },
  {
   "cell_type": "markdown",
   "metadata": {},
   "source": [
    "As mentioned earlier our analysis is on apps that are focused on an English speaking audience. There are many apps in this list that are for audiences of other languages. We first need to identify those non-English apps."
   ]
  },
  {
   "cell_type": "code",
   "execution_count": 52,
   "metadata": {},
   "outputs": [
    {
     "name": "stdout",
     "output_type": "stream",
     "text": [
      "True\n",
      "False\n",
      "True\n",
      "True\n"
     ]
    }
   ],
   "source": [
    "#Function to identify whether an app is English or non-English\n",
    "def is_english(app_name):\n",
    "    count = 0 \n",
    "    check = True\n",
    "    for letter in app_name:\n",
    "        #ord() returns integer value for a Unicode charachter\n",
    "        if ord(letter)>127:\n",
    "            count+=1\n",
    "            #There are many apps with TM and smiley faces. This includes those apps as well\n",
    "            if count>3:\n",
    "                check = False\n",
    "    return check\n",
    "print(is_english('Instagram'))\n",
    "print(is_english('爱奇艺PPS -《欢乐颂2》电视剧热播'))\n",
    "print(is_english('Docs To Go™ Free Office Suite'))\n",
    "print(is_english('Instachat 😜'))"
   ]
  },
  {
   "cell_type": "code",
   "execution_count": 53,
   "metadata": {},
   "outputs": [
    {
     "name": "stdout",
     "output_type": "stream",
     "text": [
      "The number of android english apps: 9615\n",
      "The number of android non-english apps: 45\n"
     ]
    }
   ],
   "source": [
    "english_apps = []\n",
    "non_english_apps = []\n",
    "\n",
    "for row in android_clean:\n",
    "    if is_english(row[0]):\n",
    "        english_apps.append(row)\n",
    "    else:\n",
    "        non_english_apps.append(row[0])\n",
    "\n",
    "print(\"The number of android english apps:\",len(english_apps))\n",
    "print(\"The number of android non-english apps:\",len(non_english_apps))\n"
   ]
  },
  {
   "cell_type": "markdown",
   "metadata": {},
   "source": [
    "We could repeat the same exercise for apps associated to the App Store and attempt to eliminate the non-enligh apps from the data set therein."
   ]
  },
  {
   "cell_type": "code",
   "execution_count": 54,
   "metadata": {},
   "outputs": [
    {
     "name": "stdout",
     "output_type": "stream",
     "text": [
      "The number of app store english apps: 6184\n",
      "The number of app store non-english apps: 1014\n"
     ]
    }
   ],
   "source": [
    "appl_english_apps = []\n",
    "appl_non_english_apps = []\n",
    "\n",
    "for row in apple_list:\n",
    "    if is_english(row[1]):\n",
    "        appl_english_apps.append(row)\n",
    "    else:\n",
    "        appl_non_english_apps.append(row[0])\n",
    "\n",
    "print(\"The number of app store english apps:\",len(appl_english_apps))\n",
    "print(\"The number of app store non-english apps:\",len(appl_non_english_apps))"
   ]
  },
  {
   "cell_type": "markdown",
   "metadata": {},
   "source": [
    "[Index](#Index)"
   ]
  },
  {
   "cell_type": "markdown",
   "metadata": {},
   "source": [
    "# 5"
   ]
  },
  {
   "cell_type": "markdown",
   "metadata": {},
   "source": [
    "## Identifying and Removing paid apps"
   ]
  },
  {
   "cell_type": "markdown",
   "metadata": {},
   "source": [
    "##### Filtering out free english apps"
   ]
  },
  {
   "cell_type": "markdown",
   "metadata": {},
   "source": [
    "The goal is to identify apps that are both for an english speaking audience and are free. This requires that we remove paid apps from the data sets given. The seventh column of each row identifies the price of an app in the google data set. to identify the free apps, only those apps whose price is 0 will be considered."
   ]
  },
  {
   "cell_type": "code",
   "execution_count": 55,
   "metadata": {},
   "outputs": [
    {
     "name": "stdout",
     "output_type": "stream",
     "text": [
      "The number of free english apps in the android data set: 8865\n",
      "The number of paid english apps in the android data set: 750\n"
     ]
    }
   ],
   "source": [
    "free_apps = []\n",
    "priced_apps = []\n",
    "\n",
    "for app in english_apps:\n",
    "    if app[7] != '0':\n",
    "        priced_apps.append(app)\n",
    "    else:\n",
    "        free_apps.append(app)\n",
    "\n",
    "print(\"The number of free english apps in the android data set:\",len(free_apps))\n",
    "print(\"The number of paid english apps in the android data set:\",len(priced_apps))"
   ]
  },
  {
   "cell_type": "markdown",
   "metadata": {},
   "source": [
    "We could have the App Store data set go through the same filtering process to identify free apps in the App store. "
   ]
  },
  {
   "cell_type": "code",
   "execution_count": 56,
   "metadata": {},
   "outputs": [
    {
     "name": "stdout",
     "output_type": "stream",
     "text": [
      "The number of free english apps in the app store data set: 3222\n",
      "The number of paid english apps in the app store data set: 2962\n"
     ]
    }
   ],
   "source": [
    "appl_free_apps = []\n",
    "appl_priced_apps = []\n",
    "\n",
    "for app in appl_english_apps:\n",
    "    if app[4] != '0.0':\n",
    "        appl_priced_apps.append(app)\n",
    "    else:\n",
    "        appl_free_apps.append(app)\n",
    "\n",
    "print(\"The number of free english apps in the app store data set:\",len(appl_free_apps))\n",
    "print(\"The number of paid english apps in the app store data set:\",len(appl_priced_apps))"
   ]
  },
  {
   "cell_type": "markdown",
   "metadata": {},
   "source": [
    "[Index](#Index)"
   ]
  },
  {
   "cell_type": "markdown",
   "metadata": {},
   "source": [
    "# 6"
   ]
  },
  {
   "cell_type": "markdown",
   "metadata": {},
   "source": [
    "## Defining a Strategy for App Development"
   ]
  },
  {
   "cell_type": "markdown",
   "metadata": {},
   "source": [
    "Since we now have a clean data set for both apps from the App Store and Google play. The next step would be to identify how we could use the data to identify a class of apps that would help generate revenue.\n",
    "\n",
    "After discussions with certain stakeholders the planned path of progress is as follows. First identify an app class or app type that is popular in both the App Store and Play store.\n",
    "Next develop the android app and get it up and running on Play Store. If the response for the same is good, create a similar app for the App Store and get it published therein.\n",
    "\n",
    "Since the planned app is meant for both the Playstore and App store we need to identify which app types are popular in both stores.\n",
    "\n",
    "Apps in both stores belong to a genre. Apps in the Play store also have a Category in addition to a Genre. We could consolidate apps by genre and identify which apps genres have the most apps. This would help to identify app share by genre in both stores."
   ]
  },
  {
   "cell_type": "code",
   "execution_count": 57,
   "metadata": {},
   "outputs": [],
   "source": [
    "#Function to consolidate app share in percentage by app genre using frequency table. Since its a function this could be used against any column\n",
    "\n",
    "def freq_table(dataset, index):\n",
    "    #Create Frequency table\n",
    "    temp_dict = {}\n",
    "    for row in dataset[1:]:\n",
    "        value_in_column = row[index]\n",
    "        if value_in_column in temp_dict:\n",
    "            temp_dict[value_in_column]+=1\n",
    "        else:\n",
    "            temp_dict[value_in_column]=1\n",
    "    #Sum the frequencies for all genres        \n",
    "    sum_of_freq = sum(temp_dict.values())\n",
    "    # Assign percentage values to identify share of each genre in app store\n",
    "    for row in temp_dict:\n",
    "        temp_dict[row] = round(((temp_dict[row] / sum_of_freq) * 100),2)   \n",
    "    return temp_dict"
   ]
  },
  {
   "cell_type": "code",
   "execution_count": 58,
   "metadata": {},
   "outputs": [],
   "source": [
    "#Function to display the values in the above dictionary in descending order of percentage using tuples(Dictionaries can be sorted only by keys)\n",
    "import pandas as pd\n",
    "def display_table(dataset, index):\n",
    "    table = freq_table(dataset, index)\n",
    "    table_display = []\n",
    "    for key in table:\n",
    "        key_val_as_tuple = (table[key], key)\n",
    "        table_display.append(key_val_as_tuple)\n",
    "\n",
    "    table_sorted = sorted(table_display, reverse = True)\n",
    "    percentage_table = []\n",
    "    for entry in table_sorted:\n",
    "        percentage_table.append([entry[1],entry[0]])\n",
    "    \n",
    "    percentage_table_df = pd.DataFrame(percentage_table, columns = [\"app_group\",\"percentage\"])\n",
    "    return percentage_table_df"
   ]
  },
  {
   "cell_type": "markdown",
   "metadata": {},
   "source": [
    "Using the functions created above it is possible to summarize the Prime Genre column of the apple data set and the Genre and Category columns of the filtered Google data set."
   ]
  },
  {
   "cell_type": "code",
   "execution_count": 59,
   "metadata": {},
   "outputs": [],
   "source": [
    "#Percentage of apps by genre in the filtered App store data set\n",
    "appl_percent = display_table(appl_free_apps, 11)\n",
    "google_percent = display_table(free_apps, 1)"
   ]
  },
  {
   "cell_type": "code",
   "execution_count": 60,
   "metadata": {
    "scrolled": true
   },
   "outputs": [
    {
     "data": {
      "image/png": "[encoded data removed]",
      "text/plain": [
       "<Figure size 1296x1296 with 2 Axes>"
      ]
     },
     "metadata": {},
     "output_type": "display_data"
    }
   ],
   "source": [
    "from matplotlib import pyplot as plt\n",
    "fig = plt.figure(figsize = (18,18))\n",
    "plt.subplot(1,2,1)\n",
    "plt.title(\"Percentage Share of Apps by Genre in App Store\")\n",
    "plt.pie(x = appl_percent[\"percentage\"], labels = appl_percent[\"app_group\"])\n",
    "plt.subplot(1,2,2)\n",
    "plt.title(\"Percentage Share of Apps by Category in Playstore\")\n",
    "plt.pie(x = google_percent[\"percentage\"], labels = google_percent[\"app_group\"])\n",
    "plt.show()"
   ]
  },
  {
   "cell_type": "markdown",
   "metadata": {},
   "source": [
    "A significant percentage of apps in the App Store are associated to the Games genre. However this cannot be considered as the most sought after genre of apps as this only considers a filtered list of free apps in English. However if a generalization is to be considered, apps associated to fun (i.e. Games, Entertainment, Photo & Video) have a larger share of the pie.\n",
    "\n",
    "Contrast this to the Playstore data and what is immediately noticed is that most categories have an almost equal share in the lot. However, it must be noted that here too the Family and Game genres have a clear lead.What's more interesting is that that apps that belong to the Family genre are mostly games aimed towards children as can be seen below. \n",
    "\n",
    "This clearly gives the Games genre slightly more than a quarter of the share of genres.\n",
    "However, it must be noted that non-Ennlgish free apps were eliminated so the Game genre cannot conclusively have a full lead."
   ]
  },
  {
   "cell_type": "code",
   "execution_count": 61,
   "metadata": {},
   "outputs": [
    {
     "name": "stdout",
     "output_type": "stream",
     "text": [
      "Apps in the FAMILY Category of PlayStore data \n",
      "\n",
      "NAME:CATEGORY\n",
      "Jewels Crush- Match 3 Puzzle : FAMILY\n",
      "Coloring & Learn : FAMILY\n",
      "Mahjong : FAMILY\n",
      "Super ABC! Learning games for kids! Preschool apps : FAMILY\n",
      "Toy Pop Cubes : FAMILY\n",
      "Educational Games 4 Kids : FAMILY\n",
      "Candy Pop Story : FAMILY\n",
      "Princess Coloring Book : FAMILY\n",
      "Hello Kitty Nail Salon : FAMILY\n",
      "Candy Smash : FAMILY\n"
     ]
    }
   ],
   "source": [
    "print(\"Apps in the FAMILY Category of PlayStore data \\n\")\n",
    "count = 0\n",
    "print(\"NAME:CATEGORY\")\n",
    "for an_app in free_apps:\n",
    "    if (an_app[1] == 'FAMILY')and (count<10):\n",
    "        print(an_app[0],\":\",an_app[1])\n",
    "        count+=1"
   ]
  },
  {
   "cell_type": "markdown",
   "metadata": {},
   "source": [
    "It must be noted at this point that the _Genre_ column of the Playstore dataset was not used because the column's purpose is primarily to display the sub-category of an app. Most apps have the same Category and Genre. However apps that belong to the Family and Games Category can belong to different Genres as shown below. \n",
    "\n",
    "Since we are not analysing games separately, this column can be ignored."
   ]
  },
  {
   "cell_type": "code",
   "execution_count": 62,
   "metadata": {},
   "outputs": [
    {
     "name": "stdout",
     "output_type": "stream",
     "text": [
      "Apps in the GAME and FAMILY Category of PlayStore data \n",
      "\n",
      "NAME:CATEGORY:GENRE\n",
      "Solitaire : GAME : Card\n",
      "Sonic Dash : GAME : Arcade\n",
      "PAC-MAN : GAME : Arcade\n",
      "Bubble Witch 3 Saga : GAME : Puzzle\n",
      "Race the Traffic Moto : GAME : Racing\n",
      "Marble - Temple Quest : GAME : Puzzle\n",
      "Shooting King : GAME : Sports\n",
      "Geometry Dash World : GAME : Arcade\n",
      "Jungle Marble Blast : GAME : Casual\n",
      "Roll the Ball® - slide puzzle : GAME : Puzzle\n",
      "Block Craft 3D: Building Simulator Games For Free : GAME : Simulation\n",
      "Farm Fruit Pop: Party Time : GAME : Casual\n",
      "Love Balls : GAME : Puzzle\n",
      "Piano Tiles 2™ : GAME : Arcade\n",
      "Pokémon GO : GAME : Adventure\n",
      "Paint Hit : GAME : Casual\n",
      "Snake VS Block : GAME : Arcade\n",
      "Rolly Vortex : GAME : Arcade\n",
      "Woody Puzzle : GAME : Puzzle\n",
      "Stack Jump : GAME : Arcade\n",
      "The Cube : GAME : Arcade\n",
      "Extreme Car Driving Simulator : GAME : Racing\n",
      "Bricks n Balls : GAME : Casual\n",
      "The Fish Master! : GAME : Arcade\n",
      "Color Road : GAME : Arcade\n",
      "Draw In : GAME : Arcade\n",
      "PLANK! : GAME : Arcade\n",
      "Looper! : GAME : Puzzle\n",
      "Trivia Crack : GAME : Trivia\n",
      "Will it Crush? : GAME : Simulation\n"
     ]
    }
   ],
   "source": [
    "print(\"Apps in the GAME and FAMILY Category of PlayStore data \\n\")\n",
    "count = 0\n",
    "print(\"NAME:CATEGORY:GENRE\")\n",
    "for an_app in free_apps:\n",
    "    if (an_app[1] == 'FAMILY' or an_app[1] == 'GAME') and (count<30):\n",
    "        print(an_app[0],\":\",an_app[1],\":\",an_app[-4])\n",
    "        count+=1"
   ]
  },
  {
   "cell_type": "markdown",
   "metadata": {},
   "source": [
    "[Index](#Index)"
   ]
  },
  {
   "cell_type": "markdown",
   "metadata": {},
   "source": [
    "# 7"
   ]
  },
  {
   "cell_type": "markdown",
   "metadata": {},
   "source": [
    "## Assessing User Rating by Genre for Both Datasets"
   ]
  },
  {
   "cell_type": "markdown",
   "metadata": {},
   "source": [
    "The number of users per genre could be a more reliable parameter to assess the popularity of a genre. Since more users for a genre would mean more users for apps of that genre.\n",
    "\n",
    "However to meet this end we have a couple of adjustments to consider. These have been detailed below:\n",
    "- The App Store data does not provide the number of downloads. It only provides the rating set by each user. On the other hand, the Playstore data provides the number of downloads but does not provide a rating. Seeing as this is the data we have, the average user rating will be calculated from the App Store dataset and the number of downloads will be used as the user rating for the Playstore data set. 500,000+ would be considered as 500,000 downloads.\n",
    "- Since it is impossible to know the exact number of downloads in the Playstore data set, the value given will have to be taken as is. So based on the example above, the number of download would be considered as 500,000 and the average would be taken using the same."
   ]
  },
  {
   "cell_type": "code",
   "execution_count": 63,
   "metadata": {
    "scrolled": true
   },
   "outputs": [],
   "source": [
    "apple_user_rating = []\n",
    "prime_genre_dict = freq_table(appl_free_apps, -5)\n",
    "\n",
    "#Calculating the average user rating for each genre in the filtered App Store data\n",
    "for genre in prime_genre_dict:\n",
    "    total = 0\n",
    "    len_genre = 0\n",
    "    for row in appl_free_apps[1:]:\n",
    "        genre_app = row[-5]\n",
    "        if genre_app == genre:\n",
    "            user_rating = float(row[5])\n",
    "            total+=user_rating\n",
    "            len_genre+=1\n",
    "            \n",
    "    avg_user_rating = round((total/len_genre),2)\n",
    "    apple_user_rating.append([genre,avg_user_rating])\n",
    "\n",
    "#Generating a Dataframe for a graph\n",
    "apple_user_rating_df = pd.DataFrame(apple_user_rating, columns = [\"genre\",\"apple_avg_user_rating\"])\n",
    "apple_user_rating_df.sort_values(by = [\"genre\"],inplace = True)\n",
    "apple_user_rating_df['genre'] = apple_user_rating_df['genre'].str.lower()"
   ]
  },
  {
   "cell_type": "code",
   "execution_count": 64,
   "metadata": {},
   "outputs": [],
   "source": [
    "category_dict = freq_table(free_apps, 1)\n",
    "google_user_rating = []\n",
    "\n",
    "#Calculating the average user rating for each genre in the filtered Playstore data\n",
    "for category in category_dict:\n",
    "    total = 0\n",
    "    len_category = 0\n",
    "    for row in free_apps[1:]:\n",
    "        category_app = category\n",
    "        if category_app == row[1]:\n",
    "            number_of_installs = row[5].replace('+', '')\n",
    "            number_of_installs = float(number_of_installs.replace(',', ''))\n",
    "            total+=number_of_installs\n",
    "            len_category+=1\n",
    "    google_user_rating.append([category,round((total/len_category),2)])\n",
    "    \n",
    "#Generating a Dataframe for a graph\n",
    "google_user_rating_df = pd.DataFrame(google_user_rating, columns = [\"genre\",\"google_avg_user_downloads\"])\n",
    "google_user_rating_df['genre'] = google_user_rating_df['genre'].str.lower().str.replace('_',' ').str.replace('and','&')"
   ]
  },
  {
   "cell_type": "markdown",
   "metadata": {},
   "source": [
    "To make comparison easier, the average user ratings are represented in barcharts below."
   ]
  },
  {
   "cell_type": "code",
   "execution_count": 65,
   "metadata": {},
   "outputs": [
    {
     "data": {
      "image/png": "[encoded data removed]",
      "text/plain": [
       "<Figure size 864x864 with 2 Axes>"
      ]
     },
     "metadata": {
      "needs_background": "light"
     },
     "output_type": "display_data"
    }
   ],
   "source": [
    "from matplotlib import pyplot as plt\n",
    "fig = plt.figure(figsize = (12,12))\n",
    "plt.subplot(1,2,1)\n",
    "plt.title(\"Average User Rating by Genre - App Store\")\n",
    "plt.barh(width = apple_user_rating_df['apple_avg_user_rating'], y = apple_user_rating_df['genre'])\n",
    "plt.subplot(1,2,2)\n",
    "plt.title(\"Average User Downloads by Genre - PlayStore\")\n",
    "plt.barh(width = google_user_rating_df['google_avg_user_downloads'], y = google_user_rating_df['genre'],color = 'red')\n",
    "plt.show()"
   ]
  },
  {
   "cell_type": "markdown",
   "metadata": {},
   "source": [
    "What immediately comes to notice is that there are many genres that are exactly the same like _productivity_ and _finance_ and many others that seem to be the same but have something extra like _navigation_ and _maps & navigation_.\n",
    "\n",
    "Based on the assumption that both Google and Apple have almost similar logical definitions for their Categories and Genres respectively we have to assume that those genres with the exact name have apps that meet those descriptions. However apps in the Playstore dataset that have slightly different names may have a couple more apps that would may not be classified as such based on the App Store definition. Consider the _navigation_ and _maps & navigation_ example below."
   ]
  },
  {
   "cell_type": "code",
   "execution_count": 66,
   "metadata": {},
   "outputs": [
    {
     "name": "stdout",
     "output_type": "stream",
     "text": [
      "Waze - GPS Navigation, Maps & Real-time Traffic : 345046\n",
      "Google Maps - Navigation & Transit : 154911\n",
      "Geocaching® : 12811\n",
      "CoPilot GPS – Car Navigation & Offline Maps : 3582\n",
      "ImmobilienScout24: Real Estate Search in Germany : 187\n",
      "Railway Route Search : 5\n"
     ]
    }
   ],
   "source": [
    "for app in appl_free_apps:\n",
    "    if app[-5] == \"Navigation\":\n",
    "        print(app[1],\":\",app[5])"
   ]
  },
  {
   "cell_type": "code",
   "execution_count": 67,
   "metadata": {},
   "outputs": [
    {
     "name": "stdout",
     "output_type": "stream",
     "text": [
      "Waze - GPS, Maps, Traffic Alerts & Live Navigation : 100,000,000+\n",
      "T map (te map, T map, navigation) : 5,000,000+\n",
      "MapQuest: Directions, Maps, GPS & Navigation : 10,000,000+\n",
      "Yahoo! transit guide free timetable, operation information, transfer search : 10,000,000+\n",
      "乗換NAVITIME　Timetable & Route Search in Japan Tokyo : 5,000,000+\n",
      "Transit: Real-Time Transit App : 5,000,000+\n",
      "Mapy.cz - Cycling & Hiking offline maps : 1,000,000+\n",
      "Uber : 100,000,000+\n",
      "GPS Navigation & Offline Maps Sygic : 50,000,000+\n",
      "Map and Router Badge : 500,000+\n",
      "Yandex.Transport : 10,000,000+\n",
      "Air Traffic : 1,000,000+\n",
      "Speed Cameras Radar : 1,000,000+\n",
      "Atlan3D Navigation: Korea navigator : 1,000,000+\n",
      "Compass : 10,000,000+\n",
      "Mappy - Plan, route comparison, GPS : 1,000,000+\n",
      "Gps Route Finder : 100,000+\n",
      "My Location: GPS Maps, Share & Save Places : 5,000,000+\n",
      "Yanosik: \"antyradar\", traffic jams, navigation, camera : 5,000,000+\n",
      "NAVITIME - Map & Transfer Navi : 5,000,000+\n",
      "Sygic Car Navigation : 5,000,000+\n",
      "Czech Public Transport IDOS : 1,000,000+\n",
      "Karta GPS - Offline Navigation : 1,000,000+\n",
      "Circle ratio : 1,000,000+\n",
      "Soviet Military Maps Free : 1,000,000+\n",
      "Truck Car Navi by Navitime Large size car, traffic jam, traffic closure, live camera, typhoon / precipitation map : 100,000+\n",
      "Sentin Information Map : 100,000+\n",
      "Snapp : 1,000,000+\n",
      "GPS Speedometer and Odometer : 1,000,000+\n",
      "GPS Traffic Speedcam Route Planner by ViaMichelin : 5,000,000+\n"
     ]
    }
   ],
   "source": [
    "count = 0\n",
    "for app in free_apps:\n",
    "    if app[1] == \"MAPS_AND_NAVIGATION\" and count<30:\n",
    "        print(app[0],\":\",app[5])\n",
    "        count+=1"
   ]
  },
  {
   "cell_type": "markdown",
   "metadata": {},
   "source": [
    "While the App Store apps are clearly navigation related the _MAPS AND NAVIGATION_ category apps in Playstore include apps like _Mapy.cz_ and _Compass_ which are clearly more related to maps than actual navigation.\n",
    "\n",
    "Based on this assumption, we will only consider genres that have the exact names and use the same come to a conclusion. The _Finance_ genre is a good example to show that our assumption must be good. Data from both sets clearly highlight that most apps are direcly finance related."
   ]
  },
  {
   "cell_type": "code",
   "execution_count": 68,
   "metadata": {},
   "outputs": [
    {
     "name": "stdout",
     "output_type": "stream",
     "text": [
      "Chase Mobile℠ : 233270\n",
      "Mint: Personal Finance, Budget, Bills & Money : 232940\n",
      "Bank of America - Mobile Banking : 119773\n",
      "PayPal - Send and request money safely : 119487\n",
      "Credit Karma: Free Credit Scores, Reports & Alerts : 101679\n",
      "Capital One Mobile : 56110\n",
      "Citi Mobile® : 48822\n",
      "Wells Fargo Mobile : 43064\n",
      "Chase Mobile : 34322\n",
      "Square Cash - Send Money for Free : 23775\n",
      "Capital One for iPad : 21858\n",
      "Venmo : 21090\n",
      "USAA Mobile : 19946\n",
      "TaxCaster – Free tax refund calculator : 17516\n",
      "Amex Mobile : 11421\n",
      "TurboTax Tax Return App - File 2016 income taxes : 9635\n",
      "Bank of America - Mobile Banking for iPad : 7569\n",
      "Wells Fargo for iPad : 2207\n",
      "Stash Invest: Investing & Financial Education : 1655\n",
      "Digit: Save Money Without Thinking About It : 1506\n",
      "IRS2Go : 1329\n",
      "Capital One CreditWise - Credit score and report : 1019\n",
      "U by BB&T : 790\n",
      "Paribus - Rebates When Prices Drop : 768\n",
      "KeyBank Mobile : 623\n",
      "VyStar Mobile Banking for iPhone : 434\n",
      "Sparkasse - Your mobile branch : 77\n",
      "VyStar Mobile Banking for iPad : 57\n",
      "Zaim : 44\n",
      "Ma Banque : 17\n",
      "Lloyds Bank Mobile Banking : 17\n",
      "Suica : 10\n",
      "Halifax Mobile Banking : 8\n",
      "La Banque Postale : 8\n",
      "币优铺 : 0\n",
      "Impots.gouv : 0\n"
     ]
    }
   ],
   "source": [
    "for app in appl_free_apps:\n",
    "    if app[-5] == \"Finance\":\n",
    "        print(app[1],\":\",app[5])"
   ]
  },
  {
   "cell_type": "code",
   "execution_count": 69,
   "metadata": {},
   "outputs": [
    {
     "name": "stdout",
     "output_type": "stream",
     "text": [
      "K PLUS : 10,000,000+\n",
      "ING Banking : 1,000,000+\n",
      "Citibanamex Movil : 5,000,000+\n",
      "The postal bank : 5,000,000+\n",
      "KTB Netbank : 5,000,000+\n",
      "Mobile Bancomer : 10,000,000+\n",
      "Nedbank Money : 500,000+\n",
      "SCB EASY : 5,000,000+\n",
      "CASHIER : 10,000,000+\n",
      "Rabo Banking : 1,000,000+\n",
      "Capitec Remote Banking : 1,000,000+\n",
      "Itau bank : 10,000,000+\n",
      "Nubank : 5,000,000+\n",
      "The Societe Generale App : 1,000,000+\n",
      "IKO : 1,000,000+\n",
      "Cash App : 10,000,000+\n",
      "Standard Bank / Stanbic Bank : 1,000,000+\n",
      "Bualuang mBanking : 5,000,000+\n",
      "Intesa Sanpaolo Mobile : 1,000,000+\n",
      "UBA Mobile Banking : 1,000,000+\n"
     ]
    }
   ],
   "source": [
    "count = 0\n",
    "for app in free_apps:\n",
    "    if app[1] == \"FINANCE\" and count<20:\n",
    "        print(app[0],\":\",app[5])\n",
    "        count+=1"
   ]
  },
  {
   "cell_type": "markdown",
   "metadata": {},
   "source": [
    "Based on the above assumption we could compare genres on datasets and come up with a genre for which to develop an app."
   ]
  },
  {
   "cell_type": "code",
   "execution_count": 70,
   "metadata": {},
   "outputs": [
    {
     "data": {
      "text/html": [
       "<div>\n",
       "<style scoped>\n",
       "    .dataframe tbody tr th:only-of-type {\n",
       "        vertical-align: middle;\n",
       "    }\n",
       "\n",
       "    .dataframe tbody tr th {\n",
       "        vertical-align: top;\n",
       "    }\n",
       "\n",
       "    .dataframe thead th {\n",
       "        text-align: right;\n",
       "    }\n",
       "</style>\n",
       "<table border=\"1\" class=\"dataframe\">\n",
       "  <thead>\n",
       "    <tr style=\"text-align: right;\">\n",
       "      <th></th>\n",
       "      <th>genre</th>\n",
       "      <th>apple_avg_user_rating</th>\n",
       "      <th>google_avg_user_downloads</th>\n",
       "    </tr>\n",
       "  </thead>\n",
       "  <tbody>\n",
       "    <tr>\n",
       "      <td>12</td>\n",
       "      <td>weather</td>\n",
       "      <td>52279.89</td>\n",
       "      <td>5074486.20</td>\n",
       "    </tr>\n",
       "    <tr>\n",
       "      <td>4</td>\n",
       "      <td>food &amp; drink</td>\n",
       "      <td>33333.92</td>\n",
       "      <td>1924897.74</td>\n",
       "    </tr>\n",
       "    <tr>\n",
       "      <td>3</td>\n",
       "      <td>finance</td>\n",
       "      <td>31467.94</td>\n",
       "      <td>1387692.48</td>\n",
       "    </tr>\n",
       "    <tr>\n",
       "      <td>10</td>\n",
       "      <td>shopping</td>\n",
       "      <td>26919.69</td>\n",
       "      <td>7036877.31</td>\n",
       "    </tr>\n",
       "    <tr>\n",
       "      <td>5</td>\n",
       "      <td>health &amp; fitness</td>\n",
       "      <td>23298.02</td>\n",
       "      <td>4188821.99</td>\n",
       "    </tr>\n",
       "    <tr>\n",
       "      <td>11</td>\n",
       "      <td>sports</td>\n",
       "      <td>23008.90</td>\n",
       "      <td>3638640.14</td>\n",
       "    </tr>\n",
       "    <tr>\n",
       "      <td>9</td>\n",
       "      <td>productivity</td>\n",
       "      <td>21028.41</td>\n",
       "      <td>16787331.34</td>\n",
       "    </tr>\n",
       "    <tr>\n",
       "      <td>6</td>\n",
       "      <td>lifestyle</td>\n",
       "      <td>16485.76</td>\n",
       "      <td>1437816.27</td>\n",
       "    </tr>\n",
       "    <tr>\n",
       "      <td>7</td>\n",
       "      <td>lifestyle</td>\n",
       "      <td>16485.76</td>\n",
       "      <td>1000.00</td>\n",
       "    </tr>\n",
       "    <tr>\n",
       "      <td>2</td>\n",
       "      <td>entertainment</td>\n",
       "      <td>14029.83</td>\n",
       "      <td>11640705.88</td>\n",
       "    </tr>\n",
       "    <tr>\n",
       "      <td>0</td>\n",
       "      <td>business</td>\n",
       "      <td>7491.12</td>\n",
       "      <td>1712290.15</td>\n",
       "    </tr>\n",
       "    <tr>\n",
       "      <td>1</td>\n",
       "      <td>education</td>\n",
       "      <td>7003.98</td>\n",
       "      <td>1833495.15</td>\n",
       "    </tr>\n",
       "    <tr>\n",
       "      <td>8</td>\n",
       "      <td>medical</td>\n",
       "      <td>612.00</td>\n",
       "      <td>120550.62</td>\n",
       "    </tr>\n",
       "  </tbody>\n",
       "</table>\n",
       "</div>"
      ],
      "text/plain": [
       "               genre  apple_avg_user_rating  google_avg_user_downloads\n",
       "12           weather               52279.89                 5074486.20\n",
       "4       food & drink               33333.92                 1924897.74\n",
       "3            finance               31467.94                 1387692.48\n",
       "10          shopping               26919.69                 7036877.31\n",
       "5   health & fitness               23298.02                 4188821.99\n",
       "11            sports               23008.90                 3638640.14\n",
       "9       productivity               21028.41                16787331.34\n",
       "6          lifestyle               16485.76                 1437816.27\n",
       "7          lifestyle               16485.76                    1000.00\n",
       "2      entertainment               14029.83                11640705.88\n",
       "0           business                7491.12                 1712290.15\n",
       "1          education                7003.98                 1833495.15\n",
       "8            medical                 612.00                  120550.62"
      ]
     },
     "execution_count": 70,
     "metadata": {},
     "output_type": "execute_result"
    }
   ],
   "source": [
    "merged_apple_google = pd.merge(apple_user_rating_df,google_user_rating_df,on = 'genre')\n",
    "merged_apple_google.sort_values(by = 'apple_avg_user_rating', ascending = False)"
   ]
  },
  {
   "cell_type": "markdown",
   "metadata": {},
   "source": [
    "The top 5 genres with the most downloads are productivity, entertainment, shopping, weather and health & fitness.\n",
    "\n",
    "The top 5 genres based on ratings are weather, food & drink, finance, shopping and health & fitness."
   ]
  },
  {
   "cell_type": "markdown",
   "metadata": {},
   "source": [
    "[Index](#Index)"
   ]
  },
  {
   "cell_type": "markdown",
   "metadata": {},
   "source": [
    "# 8"
   ]
  },
  {
   "cell_type": "markdown",
   "metadata": {},
   "source": [
    "## The Result"
   ]
  },
  {
   "cell_type": "markdown",
   "metadata": {},
   "source": [
    "Based on the comparison above, apps in the Shopping genre are the clear favorites to take up for further development. They perform well in terms of average downloads in the Playstore and have a respectable rate in the App Store.\n",
    "\n",
    "However, Productivity apps could also be given a strong consideration as our strategy warrants for App Store app development only if we see strong out comes in the Playstore.\n",
    "\n",
    "While apps associated to Weather could be given some consideration I am unsure whether it is good enough to generate revenue. Unlikely Shopping and Productivity genres, its unlikely that the app will be opened multiple times.\n",
    "\n",
    "However, this result must only be considered while keeping the following points in mind:\n",
    "- An assumption was made to get to this result. The assumption was tested with a few genres and may not stand true entirely. This would require further analysis of the data.\n",
    "- The problem with comparing genres is that the definition of a particular genre or what apps it must consider is entirely dependant on Google and Apple as there are no standard definitions for either to  follow.\n",
    "- A couple of genres were ignored from both sets like _Utilities_ from the App Store set and _Tools_ from the Playstore data set. While these seem similar from a language perspective, their definitions could mean something different for Apple and Google respectively.\n",
    "- Ultimately we are comparing genres from two tech companies with two very different mindsets. This is evident from the number of paid vs. free apps that can be seen in the respective stores so some assumptions need to be made to get a result."
   ]
  },
  {
   "cell_type": "code",
   "execution_count": 71,
   "metadata": {},
   "outputs": [
    {
     "data": {
      "image/png": "[encoded data removed]",
      "text/plain": [
       "<Figure size 720x720 with 2 Axes>"
      ]
     },
     "metadata": {},
     "output_type": "display_data"
    }
   ],
   "source": [
    "fig = plt.figure(figsize = (10,10))\n",
    "plt.subplot(1,2,1)\n",
    "plt.title(\"Free vs. Paid apps in Playstore\")\n",
    "plt.pie(x = [8865,750])\n",
    "plt.legend(['Free apps','Paid apps'], loc = 'upper right')\n",
    "plt.subplot(1,2,2)\n",
    "plt.title(\"Free vs. Paid apps in App Store\")\n",
    "plt.pie(x = [3222,2962])\n",
    "plt.legend(['Free apps','Paid apps'], loc = 'upper right')\n",
    "\n",
    "plt.show()"
   ]
  },
  {
   "cell_type": "markdown",
   "metadata": {},
   "source": [
    "[Index](#Index)"
   ]
  },
  {
   "cell_type": "markdown",
   "metadata": {},
   "source": [
    "# 9"
   ]
  },
  {
   "cell_type": "markdown",
   "metadata": {},
   "source": [
    "## Conclusion"
   ]
  },
  {
   "cell_type": "markdown",
   "metadata": {},
   "source": [
    "The aim of this project was to identify an app profile that could help to generate revenue in both Google's Playstore and Apple's Appstore. The project began by cleaning up the associated datasets and analysing them. We attempted to identify a popular app profile by going over the most popular genres. However since the datasets were filtered to evaluate English language apps that were free, we switched to a strategy of analysing user preferences for each genre.\n",
    "\n",
    "Based on the analysis we concluded that apps in the Shopping genre could prove to be a safe bet as user preference for the same is balanced in both stores. This result, however does come with a few caveats as it is built on an assumption."
   ]
  },
  {
   "cell_type": "markdown",
   "metadata": {},
   "source": [
    "[Index](#Index)"
   ]
  }
 ],
 "metadata": {
  "kernelspec": {
   "display_name": "Python 3",
   "language": "python",
   "name": "python3"
  },
  "language_info": {
   "codemirror_mode": {
    "name": "ipython",
    "version": 3
   },
   "file_extension": ".py",
   "mimetype": "text/x-python",
   "name": "python",
   "nbconvert_exporter": "python",
   "pygments_lexer": "ipython3",
   "version": "3.7.4"
  }
 },
 "nbformat": 4,
 "nbformat_minor": 2
}
